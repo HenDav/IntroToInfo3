{
 "cells": [
  {
   "cell_type": "code",
   "execution_count": 36,
   "metadata": {
    "collapsed": true
   },
   "outputs": [],
   "source": [
    "\n",
    "import scipy.io.wavfile as wavfile\n",
    "from scipy.linalg import dft\n",
    "import numpy as np\n",
    "import matplotlib.pyplot as plt"
   ]
  },
  {
   "cell_type": "code",
   "execution_count": 37,
   "outputs": [],
   "source": [
    "# DFT of image rotated by 90 degrees.\n",
    "def get_DFT_mat(v, inverse=False):\n",
    "    v_np = np.array(v)\n",
    "    DFT_size = v.shape[1]\n",
    "    DFT_mat = np.empty(shape=(DFT_size,DFT_size), dtype=complex)\n",
    "    conjugate = 1 if inverse==False else -1\n",
    "    w = np.power(np.e, (conjugate*2j)*np.pi/DFT_size, dtype=complex)\n",
    "    for i in range(DFT_size):\n",
    "        for j in range(DFT_size):\n",
    "            DFT_mat[i,j] = np.power(w, i*j, dtype=complex)\n",
    "    return (1/np.sqrt(DFT_size)) * np.transpose(DFT_mat @ np.transpose(v_np))"
   ],
   "metadata": {
    "collapsed": false,
    "pycharm": {
     "name": "#%%\n"
    }
   }
  },
  {
   "cell_type": "code",
   "execution_count": 38,
   "outputs": [],
   "source": [
    "ncol=512\n",
    "sky_vec = wavfile.read(\"./skycastle.wav\")[1]\n",
    "sky_vec_dist = wavfile.read(\"./skycastle-distortion.wav\")[1]\n",
    "skycastel_orig_mat = np.reshape(sky_vec, (sky_vec.size//ncol,ncol))\n",
    "skycastel_dist_mat = np.reshape(sky_vec_dist, (sky_vec_dist.size//ncol,ncol))\n",
    "\n",
    "A = get_DFT_mat(skycastel_orig_mat)\n",
    "B = get_DFT_mat(skycastel_dist_mat)"
   ],
   "metadata": {
    "collapsed": false,
    "pycharm": {
     "name": "#%%\n"
    }
   }
  },
  {
   "cell_type": "code",
   "execution_count": 39,
   "outputs": [
    {
     "name": "stdout",
     "output_type": "stream",
     "text": [
      "10.281968513289344 801072.1954419574\n"
     ]
    }
   ],
   "source": [
    "#checking A is invertible\n",
    "u, s, v = np.linalg.svd(A)\n",
    "print(np.amin(s),np.amax(s))"
   ],
   "metadata": {
    "collapsed": false,
    "pycharm": {
     "name": "#%%\n"
    }
   }
  },
  {
   "cell_type": "code",
   "execution_count": 40,
   "outputs": [],
   "source": [
    "#our func map\n",
    "C = np.linalg.pinv(A) @ B\n"
   ],
   "metadata": {
    "collapsed": false,
    "pycharm": {
     "name": "#%%\n"
    }
   }
  },
  {
   "cell_type": "code",
   "execution_count": 41,
   "outputs": [
    {
     "name": "stdout",
     "output_type": "stream",
     "text": [
      "0.0001420272924388475 10.932299570531166\n"
     ]
    }
   ],
   "source": [
    "#checking C is invertible\n",
    "u, s, v = np.linalg.svd(C)\n",
    "print(np.amin(s),np.amax(s))"
   ],
   "metadata": {
    "collapsed": false,
    "pycharm": {
     "name": "#%%\n"
    }
   }
  },
  {
   "cell_type": "code",
   "execution_count": 42,
   "outputs": [],
   "source": [
    "dist_to_fix_vec = wavfile.read(\"./totoro-distortion.wav\")[1]\n",
    "dist_to_fix_mat = np.reshape(dist_to_fix_vec, (dist_to_fix_vec.size//ncol,ncol))\n",
    "fourier_totoro = get_DFT_mat(dist_to_fix_mat) @ np.linalg.pinv(C)\n",
    "reconst_totoro = np.reshape(np.real(get_DFT_mat(fourier_totoro, inverse=True)), -1)\n",
    "reconst_skycastle = np.reshape(np.real(get_DFT_mat(B @ np.linalg.pinv(C), inverse=True)), -1)\n",
    "orig_totoro = wavfile.read(\"./totoro.wav\")"
   ],
   "metadata": {
    "collapsed": false,
    "pycharm": {
     "name": "#%%\n"
    }
   }
  },
  {
   "cell_type": "code",
   "execution_count": 43,
   "outputs": [],
   "source": [
    "wavfile.write(\"totoro-reconst.wav\",orig_totoro[0],reconst_totoro.astype(np.dtype('i2')))\n",
    "wavfile.write(\"skycastle-reconst.wav\",wavfile.read(\"./skycastle.wav\")[0],reconst_skycastle.astype(np.dtype('i2')))"
   ],
   "metadata": {
    "collapsed": false,
    "pycharm": {
     "name": "#%%\n"
    }
   }
  }
 ],
 "metadata": {
  "kernelspec": {
   "display_name": "Python 3",
   "language": "python",
   "name": "python3"
  },
  "language_info": {
   "codemirror_mode": {
    "name": "ipython",
    "version": 2
   },
   "file_extension": ".py",
   "mimetype": "text/x-python",
   "name": "python",
   "nbconvert_exporter": "python",
   "pygments_lexer": "ipython2",
   "version": "2.7.6"
  }
 },
 "nbformat": 4,
 "nbformat_minor": 0
}