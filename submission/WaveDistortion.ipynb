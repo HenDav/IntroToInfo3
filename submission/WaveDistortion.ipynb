{
 "cells": [
  {
   "cell_type": "code",
   "execution_count": 74,
   "metadata": {
    "collapsed": true
   },
   "outputs": [],
   "source": [
    "\n",
    "import scipy.io.wavfile as wavfile\n",
    "from scipy.linalg import dft\n",
    "import numpy as np\n",
    "import matplotlib.pyplot as plt"
   ]
  },
  {
   "cell_type": "code",
   "execution_count": 75,
   "metadata": {
    "collapsed": false,
    "pycharm": {
     "name": "#%%\n"
    }
   },
   "outputs": [],
   "source": [
    "def get_DFT_mat(v, inverse=False):\n",
    "    ''' Returns the DFT of image.\n",
    "        Calculated by multiplying the rotated image and DFT matrix (same as getting the DTF of every row).\n",
    "        if argument inverse==True: method returns the inverse-DFT multiplication, meaning it\n",
    "        returns it from DFT represantation to actual values).\n",
    "    '''\n",
    "    v_np = np.array(v)\n",
    "    DFT_size = v.shape[1]\n",
    "    DFT_mat = np.empty(shape=(DFT_size,DFT_size), dtype=complex)\n",
    "    conjugate = -1 if inverse==False else 1\n",
    "    w = np.power(np.e, (conjugate*2j)*np.pi/DFT_size, dtype=complex)\n",
    "    for i in range(DFT_size):\n",
    "        for j in range(DFT_size):\n",
    "            DFT_mat[i,j] = np.power(w, i*j, dtype=complex)\n",
    "    return (1/np.sqrt(DFT_size)) * np.transpose(DFT_mat @ np.transpose(v_np))"
   ]
  },
  {
   "cell_type": "markdown",
   "metadata": {},
   "source": [
    "Q. 2. a: Estimating an approximate functional map"
   ]
  },
  {
   "cell_type": "code",
   "execution_count": 76,
   "metadata": {
    "collapsed": false,
    "pycharm": {
     "name": "#%%\n"
    }
   },
   "outputs": [],
   "source": [
    "ncol=512\n",
    "\n",
    "# Opening the audio files\n",
    "sky_vec = wavfile.read(\"./skycastle.wav\")[1]\n",
    "sky_vec_dist = wavfile.read(\"./skycastle-distortion.wav\")[1]\n",
    "\n",
    "# Dividing the signals to sections = rows of a matrix\n",
    "skycastel_orig_mat = np.reshape(sky_vec, (sky_vec.size//ncol,ncol))\n",
    "skycastel_dist_mat = np.reshape(sky_vec_dist, (sky_vec_dist.size//ncol,ncol))\n",
    "\n",
    "# Computing the DFT representation coefficients\n",
    "A = get_DFT_mat(skycastel_orig_mat)\n",
    "B = get_DFT_mat(skycastel_dist_mat)"
   ]
  },
  {
   "cell_type": "code",
   "execution_count": 77,
   "metadata": {
    "collapsed": false,
    "pycharm": {
     "name": "#%%\n"
    }
   },
   "outputs": [
    {
     "name": "stdout",
     "output_type": "stream",
     "text": [
      "10.28196851328936 801072.1954419571\n"
     ]
    }
   ],
   "source": [
    "# checking A is invertible\n",
    "u, s, v = np.linalg.svd(A)\n",
    "print(np.amin(s), np.amax(s))\n",
    "# since A's singular values are non-zero, it is of full rank."
   ]
  },
  {
   "cell_type": "code",
   "execution_count": 78,
   "metadata": {
    "collapsed": false,
    "pycharm": {
     "name": "#%%\n"
    }
   },
   "outputs": [
    {
     "name": "stdout",
     "output_type": "stream",
     "text": [
      "0.00014202729244295757 10.932299570531923\n"
     ]
    }
   ],
   "source": [
    "# Calculating the coefficiants of the estimated functional map C\n",
    "C = np.linalg.pinv(A) @ B\n",
    "\n",
    "# checking that C is invertible\n",
    "u, s, v = np.linalg.svd(C)\n",
    "print(np.amin(s),np.amax(s))"
   ]
  },
  {
   "cell_type": "markdown",
   "metadata": {},
   "source": [
    "Not required, but we wanted to hear the reconstructed skycastle audio"
   ]
  },
  {
   "cell_type": "code",
   "execution_count": 79,
   "metadata": {},
   "outputs": [],
   "source": [
    "# Reconstructing the skycastle audio\n",
    "reconst_skycastle = np.reshape(np.real(get_DFT_mat(B @ np.linalg.pinv(C), inverse=True)), -1)\n",
    "\n",
    "# Saving our reconstructed signal\n",
    "wavfile.write(\"skycastle-reconst.wav\",wavfile.read(\"./skycastle.wav\")[0],reconst_skycastle.astype(np.dtype('i2')))"
   ]
  },
  {
   "cell_type": "markdown",
   "metadata": {},
   "source": [
    "Q. 2. b: Denoising the distorted Totoro audio"
   ]
  },
  {
   "cell_type": "code",
   "execution_count": 80,
   "metadata": {
    "collapsed": false,
    "pycharm": {
     "name": "#%%\n"
    }
   },
   "outputs": [],
   "source": [
    "# Opening the original audio to get sample grequency\n",
    "orig_totoro = wavfile.read(\"./totoro.wav\")\n",
    "fs = orig_totoro[0]\n",
    "\n",
    "# Opening the distorted audio and splitting it to sections\n",
    "dist_to_fix_vec = wavfile.read(\"./totoro-distortion.wav\")[1]\n",
    "dist_to_fix_mat = np.reshape(dist_to_fix_vec, (dist_to_fix_vec.size//ncol,ncol))\n",
    "\n",
    "# Calculating the DFT coefficiants of the signal and reconstructing using the estimated functional map C\n",
    "fourier_totoro = get_DFT_mat(dist_to_fix_mat) @ np.linalg.pinv(C)\n",
    "reconst_totoro = np.reshape(np.real(get_DFT_mat(fourier_totoro, inverse=True)), -1)  # the result is a vector\n",
    "\n",
    "# Saving our reconstructed signal\n",
    "wavfile.write(\"totoro-reconst.wav\",fs,reconst_totoro.astype(np.dtype('i2')))"
   ]
  },
  {
   "cell_type": "markdown",
   "metadata": {},
   "source": [
    "Q. 2. c: Comparing the reconstructed result with the true audio signal"
   ]
  },
  {
   "cell_type": "code",
   "execution_count": 81,
   "metadata": {
    "collapsed": false,
    "pycharm": {
     "name": "#%%\n"
    }
   },
   "outputs": [
    {
     "data": {
      "image/png": "[encoded data removed]",
      "text/plain": [
       "<Figure size 432x288 with 1 Axes>"
      ]
     },
     "metadata": {
      "needs_background": "light"
     },
     "output_type": "display_data"
    }
   ],
   "source": [
    "orig_totoro_vector = orig_totoro[1]\n",
    "vec_len = orig_totoro_vector.size\n",
    "\n",
    "x = list(range(vec_len))\n",
    "plt.plot(x, reconst_totoro, label=\"reconstructed\")\n",
    "plt.plot(x, orig_totoro_vector, label=\"original\")\n",
    "plt.title(\"Comparing the reconstructed result with the true audio signal\")\n",
    "plt.legend()\n",
    "plt.show()"
   ]
  },
  {
   "cell_type": "markdown",
   "metadata": {},
   "source": [
    "Q. 2. d: Calculating the MSE"
   ]
  },
  {
   "cell_type": "code",
   "execution_count": 82,
   "metadata": {},
   "outputs": [
    {
     "name": "stdout",
     "output_type": "stream",
     "text": [
      "The MSE is 54417.583038473844\n",
      "The MSE is 54417.583038473866\n",
      "The MSE of orig_vs_dist is 2271256.1672920277\n"
     ]
    }
   ],
   "source": [
    "diff_vec = reconst_totoro - orig_totoro_vector\n",
    "diff_elements_squared = [np.power(a, 2) for a in diff_vec]\n",
    "mse = np.mean(diff_elements_squared)\n",
    "print(\"The MSE is {mse}\".format(mse=mse))\n",
    "\n",
    "# another way to calculate, to be sure\n",
    "mse = np.power(np.linalg.norm(diff_vec), 2) / vec_len\n",
    "print(\"The MSE is {mse}\".format(mse=mse))\n",
    "\n",
    "# For comparison, we calculated the MSE between the original signal and the distorted\n",
    "orig_vs_dist_diff = np.subtract(orig_totoro_vector,dist_to_fix_vec)\n",
    "orig_vs_dist_mse=np.power(np.linalg.norm(orig_vs_dist_diff), 2) / vec_len\n",
    "print(\"The MSE of orig_vs_dist is {mse}\".format(mse=orig_vs_dist_mse))\n",
    "\n",
    "# As one can see, the MSE of original+reconstructed is significantly lower than the MSE of original+distorted.\n",
    "# Also, the reconstructed audio sounds quite good.\n",
    "# High numbers are because of the chosen library to open WAV files.\n",
    "# So in summary - we think we do not have a mistake in our implementation..."
   ]
  }
 ],
 "metadata": {
  "kernelspec": {
   "display_name": "Python 3",
   "language": "python",
   "name": "python3"
  },
  "language_info": {
   "codemirror_mode": {
    "name": "ipython",
    "version": 3
   },
   "file_extension": ".py",
   "mimetype": "text/x-python",
   "name": "python",
   "nbconvert_exporter": "python",
   "pygments_lexer": "ipython3",
   "version": "3.8.10"
  }
 },
 "nbformat": 4,
 "nbformat_minor": 0
}
